{
 "cells": [
  {
   "cell_type": "code",
   "execution_count": null,
   "id": "7e06a9af-ab78-423e-b163-591535ccc097",
   "metadata": {},
   "outputs": [],
   "source": [
    "import numpy as np\n",
    "import pandas as pd\n",
    "\n",
    "alphabet = {'a' : '1', 'b' : '2', 'c' : '3', 'd' : '4', 'e' : '5', 'f' : '6', 'g' : '7', 'h' : '8', 'i' : '9', 'j' : '10','k' : '11', 'l' : '12', \n",
    "        'm' : '13', 'n' : '14', 'o' : '15', 'p' : '16', 'q' : '17', 'r' : '18', 's' : '19', 't' : '20', 'u' : '21', 'v' : '22', 'w' : '23', 'x' : '24', 'y' : '25', 'z' : '26'\n",
    "    }\n",
    "def encrypt(string):\n",
    "    code='' \n",
    "    for i in range(0,len(string)):\n",
    "        val=alphabet[string[i].lower()]\n",
    "        if int(val)<10:\n",
    "            code +=val\n",
    "        elif int(val)==19:\n",
    "            code +='1'\n",
    "        else:\n",
    "            code +=str(int(val[0])+int(val[1]))\n",
    "    return int(code)   ; \n",
    "def df_encrypt(df):\n",
    "    for i in df.columns:\n",
    "        uniq=df[i].unique()\n",
    "        if type(df[i][0])==str and \\\n",
    "        len(uniq)==2 and \\\n",
    "        'yes' in [k.lower() for k in uniq] and \\\n",
    "        'no' in [k.lower() for k in uniq]:\n",
    "            df.loc[df[i].str.lower()=='yes', i]=1\n",
    "            df.loc[df[i].str.lower()=='no', i]=0\n",
    "        elif type(df[i][0])==str:\n",
    "            for j in uniq:\n",
    "                df.loc[df[i]==j, i]=encrypt(j)\n",
    "        else:\n",
    "            pass\n",
    "    return df\n",
    "def df_encrypt(df):\n",
    "    for i in df.columns:\n",
    "        uniq=df[i].unique()\n",
    "        if type(df[i][0])==str and \\\n",
    "        len(uniq)==2 and \\\n",
    "        'yes' in [k.lower() for k in uniq] and \\\n",
    "        'no' in [k.lower() for k in uniq]:\n",
    "            df.loc[df[i].str.lower()=='yes', i]=1\n",
    "            df.loc[df[i].str.lower()=='no', i]=0\n",
    "        elif type(df[i][0])==str:\n",
    "            for j in uniq:\n",
    "                df.loc[df[i]==j, i]=encrypt(j)\n",
    "        else:\n",
    "            pass\n",
    "    return df"
   ]
  }
 ],
 "metadata": {
  "kernelspec": {
   "display_name": "Python 3 (ipykernel)",
   "language": "python",
   "name": "python3"
  },
  "language_info": {
   "codemirror_mode": {
    "name": "ipython",
    "version": 3
   },
   "file_extension": ".py",
   "mimetype": "text/x-python",
   "name": "python",
   "nbconvert_exporter": "python",
   "pygments_lexer": "ipython3",
   "version": "3.9.7"
  }
 },
 "nbformat": 4,
 "nbformat_minor": 5
}
